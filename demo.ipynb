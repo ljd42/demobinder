{
 "cells": [
  {
   "cell_type": "markdown",
   "id": "c1d7bd3c",
   "metadata": {},
   "source": [
    "# Demo binder "
   ]
  },
  {
   "cell_type": "code",
   "execution_count": null,
   "id": "782e405a",
   "metadata": {},
   "outputs": [],
   "source": [
    "%reload_ext nbtutor"
   ]
  },
  {
   "cell_type": "code",
   "execution_count": null,
   "id": "f1a80be5",
   "metadata": {},
   "outputs": [],
   "source": [
    "%%nbtutor \n",
    "\n",
    "x = 42\n",
    "y = x\n",
    "print(f'{x is y = }')"
   ]
  },
  {
   "cell_type": "code",
   "execution_count": null,
   "id": "78530aad",
   "metadata": {},
   "outputs": [],
   "source": []
  }
 ],
 "metadata": {
  "kernelspec": {
   "display_name": "Python 3 (ipykernel)",
   "language": "python",
   "name": "python3"
  },
  "language_info": {
   "codemirror_mode": {
    "name": "ipython",
    "version": 3
   },
   "file_extension": ".py",
   "mimetype": "text/x-python",
   "name": "python",
   "nbconvert_exporter": "python",
   "pygments_lexer": "ipython3",
   "version": "3.11.4"
  }
 },
 "nbformat": 4,
 "nbformat_minor": 5
}
